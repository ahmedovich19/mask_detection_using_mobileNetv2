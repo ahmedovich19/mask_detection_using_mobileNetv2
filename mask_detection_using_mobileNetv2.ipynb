{
  "cells": [
    {
      "cell_type": "code",
      "source": [
        "from google.colab import drive\n",
        "drive.mount('/content/drive',force_remount=True)"
      ],
      "metadata": {
        "colab": {
          "base_uri": "https://localhost:8080/"
        },
        "id": "jr1dEXfvw1wC",
        "outputId": "5210a0dc-0ede-43a7-a2fc-0f110104e611"
      },
      "execution_count": 2,
      "outputs": [
        {
          "output_type": "stream",
          "name": "stdout",
          "text": [
            "Mounted at /content/drive\n"
          ]
        }
      ]
    },
    {
      "cell_type": "code",
      "source": [
        "!pip install wget"
      ],
      "metadata": {
        "colab": {
          "base_uri": "https://localhost:8080/"
        },
        "id": "mwoLq44VxKp_",
        "outputId": "3f61dba2-cc78-499c-b314-e52379c37b16"
      },
      "execution_count": 3,
      "outputs": [
        {
          "output_type": "stream",
          "name": "stdout",
          "text": [
            "Collecting wget\n",
            "  Downloading wget-3.2.zip (10 kB)\n",
            "  Preparing metadata (setup.py) ... \u001b[?25l\u001b[?25hdone\n",
            "Building wheels for collected packages: wget\n",
            "  Building wheel for wget (setup.py) ... \u001b[?25l\u001b[?25hdone\n",
            "  Created wheel for wget: filename=wget-3.2-py3-none-any.whl size=9657 sha256=2299fc258286bfc9b596d7d79770c96b8b7086f821c1f400ed9f6b9989da7d9d\n",
            "  Stored in directory: /root/.cache/pip/wheels/8b/f1/7f/5c94f0a7a505ca1c81cd1d9208ae2064675d97582078e6c769\n",
            "Successfully built wget\n",
            "Installing collected packages: wget\n",
            "Successfully installed wget-3.2\n"
          ]
        }
      ]
    },
    {
      "cell_type": "code",
      "execution_count": 4,
      "metadata": {
        "id": "Wm0bxGLtsS4n"
      },
      "outputs": [],
      "source": [
        "from tensorflow.keras.preprocessing.image import ImageDataGenerator\n",
        "from tensorflow.keras.applications import MobileNetV2\n",
        "from tensorflow.keras.layers import AveragePooling2D\n",
        "from tensorflow.keras.layers import Dropout\n",
        "from tensorflow.keras.layers import Flatten\n",
        "from tensorflow.keras.layers import Dense\n",
        "from tensorflow.keras.layers import Input\n",
        "from tensorflow.keras.models import Model\n",
        "from tensorflow.keras.optimizers import Adam\n",
        "from tensorflow.keras.applications.mobilenet_v2 import preprocess_input\n",
        "from tensorflow.keras.preprocessing.image import img_to_array\n",
        "from tensorflow.keras.preprocessing.image import load_img\n",
        "from tensorflow.keras.utils import to_categorical\n",
        "from sklearn.preprocessing import LabelBinarizer\n",
        "from sklearn.model_selection import train_test_split\n",
        "from sklearn.metrics import classification_report\n",
        "from imutils import paths\n",
        "import matplotlib.pyplot as plt\n",
        "import numpy as np\n",
        "import os\n",
        "import sys\n",
        "import zipfile\n",
        "import wget\n",
        "import shutil"
      ]
    },
    {
      "cell_type": "code",
      "source": [
        "GOOGLE_DRIVE_PATH_AFTER_MYDRIVE = 'Colab Notebooks/computer-vision-implementations'\n",
        "GOOGLE_DRIVE_PATH = os.path.join(\"drive\", \"My Drive\", GOOGLE_DRIVE_PATH_AFTER_MYDRIVE)\n",
        "print(os.listdir(GOOGLE_DRIVE_PATH))\n",
        "\n",
        "\n",
        "# Add to sys so we can import .py files.\n",
        "sys.path.append(GOOGLE_DRIVE_PATH)"
      ],
      "metadata": {
        "colab": {
          "base_uri": "https://localhost:8080/"
        },
        "id": "V_B5MdPBxSfb",
        "outputId": "380dcba3-0913-430a-bcc6-87a3d2efbe21"
      },
      "execution_count": 5,
      "outputs": [
        {
          "output_type": "stream",
          "name": "stdout",
          "text": [
            "['fine_tune_MobileNet_on_sign_language_dataset.ipynb', 'images', 'mask_detection_using_mobileNetv2.ipynb']\n"
          ]
        }
      ]
    },
    {
      "cell_type": "code",
      "source": [
        "data_set_path = GOOGLE_DRIVE_PATH +'/images/'"
      ],
      "metadata": {
        "id": "QnMoxCGpx8NW"
      },
      "execution_count": 6,
      "outputs": []
    },
    {
      "cell_type": "code",
      "source": [
        "if not os.path.exists(data_set_path+'/dataset'):\n",
        "    url = 'https://github.com/balajisrinivas/Face-Mask-Detection/archive/refs/heads/master.zip'\n",
        "    filename = wget.download(url)\n",
        "    with zipfile.ZipFile('Face-Mask-Detection-master.zip') as zf:\n",
        "        zf.extractall(data_set_path)\n",
        "    os.remove('Face-Mask-Detection-master.zip')\n",
        "    shutil.move(data_set_path+f'/Face-Mask-Detection-master/dataset',data_set_path)\n",
        "    shutil.rmtree(data_set_path+f'/Face-Mask-Detection-master')"
      ],
      "metadata": {
        "id": "C-LcV2xIxW36"
      },
      "execution_count": 7,
      "outputs": []
    },
    {
      "cell_type": "code",
      "source": [
        "print(os.listdir(data_set_path+'/dataset'))"
      ],
      "metadata": {
        "colab": {
          "base_uri": "https://localhost:8080/"
        },
        "id": "DklDMB710Blo",
        "outputId": "3f980307-63bb-4567-e7c2-52a482fd126d"
      },
      "execution_count": 8,
      "outputs": [
        {
          "output_type": "stream",
          "name": "stdout",
          "text": [
            "['with_mask', 'without_mask']\n"
          ]
        }
      ]
    },
    {
      "cell_type": "code",
      "execution_count": 9,
      "metadata": {
        "colab": {
          "base_uri": "https://localhost:8080/"
        },
        "id": "1OUcQvD2sS4t",
        "outputId": "73a952a6-a4a3-4909-d8a9-317b89eb56a7"
      },
      "outputs": [
        {
          "output_type": "stream",
          "name": "stdout",
          "text": [
            "[INFO] loading images...\n"
          ]
        },
        {
          "output_type": "stream",
          "name": "stderr",
          "text": [
            "/usr/local/lib/python3.10/dist-packages/PIL/Image.py:975: UserWarning: Palette images with Transparency expressed in bytes should be converted to RGBA images\n",
            "  warnings.warn(\n"
          ]
        }
      ],
      "source": [
        "#initialize the initial learning rate,number of epochs to train far,\n",
        "#and batch_size\n",
        "INIT_LR = 1e-4\n",
        "EPOCHS = 20\n",
        "BS = 32\n",
        "DIRECTORY = data_set_path+'/dataset'\n",
        "CATEGORIES =['with_mask','without_mask']\n",
        "print('[INFO] loading images...')\n",
        "data = []\n",
        "labels = []\n",
        "for category in CATEGORIES:\n",
        "    path = os.path.join(DIRECTORY,category)\n",
        "    for img in os.listdir(path):\n",
        "        img_path = os.path.join(path,img)\n",
        "        image = load_img(img_path,target_size=(224,224))\n",
        "        image = img_to_array(image)\n",
        "        image =preprocess_input(image)\n",
        "        data.append(image)\n",
        "        labels.append(category)"
      ]
    },
    {
      "cell_type": "code",
      "execution_count": 10,
      "metadata": {
        "id": "_ZDFsxpVsS4v"
      },
      "outputs": [],
      "source": [
        "#perform one-hot encoding on the labels\n",
        "lb = LabelBinarizer()\n",
        "labels = lb.fit_transform(labels)\n",
        "labels = to_categorical(labels)\n",
        "data = np.array(data,dtype='float32')\n",
        "labels = np.array(labels)\n",
        "(trainX,testX,trainY,testY) = train_test_split(data,labels,\n",
        "                                               test_size=0.20,stratify=labels,random_state=42)"
      ]
    },
    {
      "cell_type": "code",
      "execution_count": 11,
      "metadata": {
        "id": "SZ2f8oERsS4y"
      },
      "outputs": [],
      "source": [
        "#make data agumentation on the data\n",
        "aug = ImageDataGenerator(\n",
        "    rotation_range =20,\n",
        "    zoom_range = 0.15,\n",
        "    width_shift_range = 0.2,\n",
        "    height_shift_range = 0.2,\n",
        "    shear_range=0.15,\n",
        "    horizontal_flip = True,\n",
        "    fill_mode = 'nearest'\n",
        ")"
      ]
    },
    {
      "cell_type": "code",
      "execution_count": 12,
      "metadata": {
        "colab": {
          "base_uri": "https://localhost:8080/"
        },
        "id": "jVGWvYJDsS4z",
        "outputId": "5abeb121-124b-4484-f1c3-f5724bed0014"
      },
      "outputs": [
        {
          "output_type": "stream",
          "name": "stderr",
          "text": [
            "WARNING:tensorflow:`input_shape` is undefined or non-square, or `rows` is not in [96, 128, 160, 192, 224]. Weights for input shape (224, 224) will be loaded as the default.\n"
          ]
        },
        {
          "output_type": "stream",
          "name": "stdout",
          "text": [
            "Downloading data from https://storage.googleapis.com/tensorflow/keras-applications/mobilenet_v2/mobilenet_v2_weights_tf_dim_ordering_tf_kernels_1.0_224_no_top.h5\n",
            "9406464/9406464 [==============================] - 0s 0us/step\n"
          ]
        }
      ],
      "source": [
        "#load mobilenetb2 and set the head FC Layer leftt off\n",
        "baseModel = MobileNetV2(weights='imagenet',include_top=False,input_tensor=Input(shape=(224,224,3)))\n",
        "#construct the head of the model that will be placed on top of the base model\n",
        "headModel = baseModel.output\n",
        "headModel = AveragePooling2D(pool_size=(7,7))(headModel)\n",
        "headModel = Flatten(name='flatten')(headModel)\n",
        "headModel = Dense(128,activation='relu')(headModel)\n",
        "headModel = Dropout(0.5)(headModel)\n",
        "headModel = Dense(2,activation='softmax')(headModel)\n",
        "#place the head FC model on top the base model\n",
        "model = Model(inputs=baseModel.input,outputs=headModel)"
      ]
    },
    {
      "cell_type": "code",
      "execution_count": 13,
      "metadata": {
        "colab": {
          "base_uri": "https://localhost:8080/"
        },
        "id": "sBB8MqTDsS41",
        "outputId": "f27aedff-aedb-4237-a0e1-4d390d745c67"
      },
      "outputs": [
        {
          "output_type": "stream",
          "name": "stderr",
          "text": [
            "WARNING:absl:`lr` is deprecated in Keras optimizer, please use `learning_rate` or use the legacy optimizer, e.g.,tf.keras.optimizers.legacy.Adam.\n"
          ]
        },
        {
          "output_type": "stream",
          "name": "stdout",
          "text": [
            "[INFO] compilning model...\n",
            "[INFO] training head\n",
            "Epoch 1/20\n",
            "95/95 [==============================] - 211s 2s/step - loss: 0.1176 - accuracy: 0.9598 - val_loss: 0.0431 - val_accuracy: 0.9817\n",
            "Epoch 2/20\n",
            "95/95 [==============================] - 237s 2s/step - loss: 0.0562 - accuracy: 0.9812 - val_loss: 0.0272 - val_accuracy: 0.9909\n",
            "Epoch 3/20\n",
            "95/95 [==============================] - 203s 2s/step - loss: 0.0335 - accuracy: 0.9888 - val_loss: 0.0229 - val_accuracy: 0.9883\n",
            "Epoch 4/20\n",
            "95/95 [==============================] - 200s 2s/step - loss: 0.0375 - accuracy: 0.9888 - val_loss: 0.0359 - val_accuracy: 0.9844\n",
            "Epoch 5/20\n",
            "95/95 [==============================] - 196s 2s/step - loss: 0.0333 - accuracy: 0.9898 - val_loss: 0.0307 - val_accuracy: 0.9883\n",
            "Epoch 6/20\n",
            "95/95 [==============================] - 202s 2s/step - loss: 0.0325 - accuracy: 0.9914 - val_loss: 0.0503 - val_accuracy: 0.9778\n",
            "Epoch 7/20\n",
            "95/95 [==============================] - 200s 2s/step - loss: 0.0348 - accuracy: 0.9895 - val_loss: 0.0525 - val_accuracy: 0.9778\n",
            "Epoch 8/20\n",
            "95/95 [==============================] - 206s 2s/step - loss: 0.0244 - accuracy: 0.9911 - val_loss: 0.0163 - val_accuracy: 0.9961\n",
            "Epoch 9/20\n",
            "95/95 [==============================] - 205s 2s/step - loss: 0.0246 - accuracy: 0.9908 - val_loss: 0.0290 - val_accuracy: 0.9909\n",
            "Epoch 10/20\n",
            "95/95 [==============================] - 209s 2s/step - loss: 0.0308 - accuracy: 0.9898 - val_loss: 0.0160 - val_accuracy: 0.9948\n",
            "Epoch 11/20\n",
            "95/95 [==============================] - 208s 2s/step - loss: 0.0174 - accuracy: 0.9934 - val_loss: 0.0273 - val_accuracy: 0.9883\n",
            "Epoch 12/20\n",
            "95/95 [==============================] - 205s 2s/step - loss: 0.0221 - accuracy: 0.9944 - val_loss: 0.0153 - val_accuracy: 0.9935\n",
            "Epoch 13/20\n",
            "95/95 [==============================] - 205s 2s/step - loss: 0.0178 - accuracy: 0.9924 - val_loss: 0.0310 - val_accuracy: 0.9883\n",
            "Epoch 14/20\n",
            "95/95 [==============================] - 204s 2s/step - loss: 0.0206 - accuracy: 0.9924 - val_loss: 0.0259 - val_accuracy: 0.9909\n",
            "Epoch 15/20\n",
            "95/95 [==============================] - 201s 2s/step - loss: 0.0278 - accuracy: 0.9918 - val_loss: 0.0140 - val_accuracy: 0.9961\n",
            "Epoch 16/20\n",
            "95/95 [==============================] - 203s 2s/step - loss: 0.0129 - accuracy: 0.9951 - val_loss: 0.0074 - val_accuracy: 0.9948\n",
            "Epoch 17/20\n",
            "95/95 [==============================] - 203s 2s/step - loss: 0.0172 - accuracy: 0.9937 - val_loss: 0.0155 - val_accuracy: 0.9922\n",
            "Epoch 18/20\n",
            "95/95 [==============================] - 207s 2s/step - loss: 0.0196 - accuracy: 0.9934 - val_loss: 0.0352 - val_accuracy: 0.9857\n",
            "Epoch 19/20\n",
            "95/95 [==============================] - 201s 2s/step - loss: 0.0169 - accuracy: 0.9941 - val_loss: 0.0152 - val_accuracy: 0.9974\n",
            "Epoch 20/20\n",
            "95/95 [==============================] - 197s 2s/step - loss: 0.0240 - accuracy: 0.9931 - val_loss: 0.0117 - val_accuracy: 0.9961\n"
          ]
        }
      ],
      "source": [
        "#freeze the basemodel layers so they will not be updated during the first training process\n",
        "for layer in baseModel.layers:\n",
        "    layer.trainable = False\n",
        "#compile out model\n",
        "print(\"[INFO] compilning model...\")\n",
        "opt = Adam(lr=INIT_LR,weight_decay=INIT_LR/EPOCHS)\n",
        "model.compile(loss='binary_crossentropy',optimizer=opt,metrics=['accuracy'])\n",
        "#train the head of the network\n",
        "print(\"[INFO] training head\")\n",
        "H = model.fit(aug.flow(trainX,trainY,batch_size=BS),\n",
        "              steps_per_epoch=len(trainX)//BS,\n",
        "              validation_data=(testX,testY),\n",
        "              validation_steps=len(testX)//BS,\n",
        "              epochs=EPOCHS)"
      ]
    },
    {
      "cell_type": "code",
      "execution_count": 14,
      "metadata": {
        "colab": {
          "base_uri": "https://localhost:8080/"
        },
        "id": "OptrZpwdsS42",
        "outputId": "38a3f99f-c624-4b64-d7cf-cba0700f6c4d"
      },
      "outputs": [
        {
          "output_type": "stream",
          "name": "stdout",
          "text": [
            "input_1 False\n",
            "Conv1 False\n",
            "bn_Conv1 False\n",
            "Conv1_relu False\n",
            "expanded_conv_depthwise False\n",
            "expanded_conv_depthwise_BN False\n",
            "expanded_conv_depthwise_relu False\n",
            "expanded_conv_project False\n",
            "expanded_conv_project_BN False\n",
            "block_1_expand False\n",
            "block_1_expand_BN False\n",
            "block_1_expand_relu False\n",
            "block_1_pad False\n",
            "block_1_depthwise False\n",
            "block_1_depthwise_BN False\n",
            "block_1_depthwise_relu False\n",
            "block_1_project False\n",
            "block_1_project_BN False\n",
            "block_2_expand False\n",
            "block_2_expand_BN False\n",
            "block_2_expand_relu False\n",
            "block_2_depthwise False\n",
            "block_2_depthwise_BN False\n",
            "block_2_depthwise_relu False\n",
            "block_2_project False\n",
            "block_2_project_BN False\n",
            "block_2_add False\n",
            "block_3_expand False\n",
            "block_3_expand_BN False\n",
            "block_3_expand_relu False\n",
            "block_3_pad False\n",
            "block_3_depthwise False\n",
            "block_3_depthwise_BN False\n",
            "block_3_depthwise_relu False\n",
            "block_3_project False\n",
            "block_3_project_BN False\n",
            "block_4_expand False\n",
            "block_4_expand_BN False\n",
            "block_4_expand_relu False\n",
            "block_4_depthwise False\n",
            "block_4_depthwise_BN False\n",
            "block_4_depthwise_relu False\n",
            "block_4_project False\n",
            "block_4_project_BN False\n",
            "block_4_add False\n",
            "block_5_expand False\n",
            "block_5_expand_BN False\n",
            "block_5_expand_relu False\n",
            "block_5_depthwise False\n",
            "block_5_depthwise_BN False\n",
            "block_5_depthwise_relu False\n",
            "block_5_project False\n",
            "block_5_project_BN False\n",
            "block_5_add False\n",
            "block_6_expand False\n",
            "block_6_expand_BN False\n",
            "block_6_expand_relu False\n",
            "block_6_pad False\n",
            "block_6_depthwise False\n",
            "block_6_depthwise_BN False\n",
            "block_6_depthwise_relu False\n",
            "block_6_project False\n",
            "block_6_project_BN False\n",
            "block_7_expand False\n",
            "block_7_expand_BN False\n",
            "block_7_expand_relu False\n",
            "block_7_depthwise False\n",
            "block_7_depthwise_BN False\n",
            "block_7_depthwise_relu False\n",
            "block_7_project False\n",
            "block_7_project_BN False\n",
            "block_7_add False\n",
            "block_8_expand False\n",
            "block_8_expand_BN False\n",
            "block_8_expand_relu False\n",
            "block_8_depthwise False\n",
            "block_8_depthwise_BN False\n",
            "block_8_depthwise_relu False\n",
            "block_8_project False\n",
            "block_8_project_BN False\n",
            "block_8_add False\n",
            "block_9_expand False\n",
            "block_9_expand_BN False\n",
            "block_9_expand_relu False\n",
            "block_9_depthwise False\n",
            "block_9_depthwise_BN False\n",
            "block_9_depthwise_relu False\n",
            "block_9_project False\n",
            "block_9_project_BN False\n",
            "block_9_add False\n",
            "block_10_expand False\n",
            "block_10_expand_BN False\n",
            "block_10_expand_relu False\n",
            "block_10_depthwise False\n",
            "block_10_depthwise_BN False\n",
            "block_10_depthwise_relu False\n",
            "block_10_project False\n",
            "block_10_project_BN False\n",
            "block_11_expand False\n",
            "block_11_expand_BN False\n",
            "block_11_expand_relu False\n",
            "block_11_depthwise False\n",
            "block_11_depthwise_BN False\n",
            "block_11_depthwise_relu False\n",
            "block_11_project False\n",
            "block_11_project_BN False\n",
            "block_11_add False\n",
            "block_12_expand False\n",
            "block_12_expand_BN False\n",
            "block_12_expand_relu False\n",
            "block_12_depthwise False\n",
            "block_12_depthwise_BN False\n",
            "block_12_depthwise_relu False\n",
            "block_12_project False\n",
            "block_12_project_BN False\n",
            "block_12_add False\n",
            "block_13_expand False\n",
            "block_13_expand_BN False\n",
            "block_13_expand_relu False\n",
            "block_13_pad False\n",
            "block_13_depthwise False\n",
            "block_13_depthwise_BN False\n",
            "block_13_depthwise_relu False\n",
            "block_13_project False\n",
            "block_13_project_BN False\n",
            "block_14_expand False\n",
            "block_14_expand_BN False\n",
            "block_14_expand_relu False\n",
            "block_14_depthwise False\n",
            "block_14_depthwise_BN False\n",
            "block_14_depthwise_relu False\n",
            "block_14_project False\n",
            "block_14_project_BN False\n",
            "block_14_add False\n",
            "block_15_expand False\n",
            "block_15_expand_BN False\n",
            "block_15_expand_relu False\n",
            "block_15_depthwise False\n",
            "block_15_depthwise_BN False\n",
            "block_15_depthwise_relu False\n",
            "block_15_project False\n",
            "block_15_project_BN False\n",
            "block_15_add False\n",
            "block_16_expand False\n",
            "block_16_expand_BN False\n",
            "block_16_expand_relu False\n",
            "block_16_depthwise False\n",
            "block_16_depthwise_BN False\n",
            "block_16_depthwise_relu False\n",
            "block_16_project False\n",
            "block_16_project_BN False\n",
            "Conv_1 False\n",
            "Conv_1_bn False\n",
            "out_relu False\n",
            "average_pooling2d True\n",
            "flatten True\n",
            "dense True\n",
            "dropout True\n",
            "dense_1 True\n"
          ]
        }
      ],
      "source": [
        "for l in model.layers:\n",
        "    print(l.name,l.trainable)"
      ]
    },
    {
      "cell_type": "code",
      "execution_count": 15,
      "metadata": {
        "colab": {
          "base_uri": "https://localhost:8080/"
        },
        "id": "xkqYDjuMsS43",
        "outputId": "af705891-110d-46c3-f22d-e2abcba26266"
      },
      "outputs": [
        {
          "output_type": "stream",
          "name": "stdout",
          "text": [
            "[INFO] evaluating network...\n",
            "24/24 [==============================] - 32s 1s/step\n"
          ]
        }
      ],
      "source": [
        "#make predictions on the test set\n",
        "print(\"[INFO] evaluating network...\")\n",
        "predIdxs = model.predict(testX,batch_size=BS)\n",
        "predIdxs = np.argmax(predIdxs,axis=1)"
      ]
    },
    {
      "cell_type": "code",
      "execution_count": 16,
      "metadata": {
        "colab": {
          "base_uri": "https://localhost:8080/"
        },
        "id": "OTVUhnN8sS43",
        "outputId": "1aa50fff-f009-4a59-ff81-627a8a10d333"
      },
      "outputs": [
        {
          "output_type": "stream",
          "name": "stdout",
          "text": [
            "              precision    recall  f1-score   support\n",
            "\n",
            "   with_mask       0.99      1.00      1.00       383\n",
            "without_mask       1.00      0.99      1.00       384\n",
            "\n",
            "    accuracy                           1.00       767\n",
            "   macro avg       1.00      1.00      1.00       767\n",
            "weighted avg       1.00      1.00      1.00       767\n",
            "\n"
          ]
        }
      ],
      "source": [
        "print(classification_report(testY.argmax(axis=1),predIdxs,target_names=lb.classes_))"
      ]
    },
    {
      "cell_type": "code",
      "execution_count": 20,
      "metadata": {
        "colab": {
          "base_uri": "https://localhost:8080/"
        },
        "id": "K1ygkT2rsS44",
        "outputId": "69c2e74e-3139-4808-c196-d4a09c9e3f45"
      },
      "outputs": [
        {
          "output_type": "stream",
          "name": "stdout",
          "text": [
            "[INFO] saving mask detector model...\n"
          ]
        }
      ],
      "source": [
        "#save the model\n",
        "print(\"[INFO] saving mask detector model...\")\n",
        "model.save(GOOGLE_DRIVE_PATH+\"/files/mask_detector.model\",save_format=\"h5\")"
      ]
    },
    {
      "cell_type": "code",
      "execution_count": 19,
      "metadata": {
        "colab": {
          "base_uri": "https://localhost:8080/",
          "height": 477
        },
        "id": "efS1YFeRsS45",
        "outputId": "9043de89-e021-4e9b-e05e-4adcf0cf6a59"
      },
      "outputs": [
        {
          "output_type": "display_data",
          "data": {
            "text/plain": [
              "<Figure size 640x480 with 1 Axes>"
            ],
            "image/png": "[encoded data removed]"
          },
          "metadata": {}
        }
      ],
      "source": [
        "#plot the training loss and accuracy\n",
        "N = EPOCHS\n",
        "plt.style.use(\"ggplot\")\n",
        "plt.figure()\n",
        "plt.plot(np.arange(0,N),H.history['loss'],label='train_loss')\n",
        "plt.plot(np.arange(0,N),H.history['val_loss'],label='val_loss')\n",
        "plt.plot(np.arange(0,N),H.history['accuracy'],label='traing_acc')\n",
        "plt.plot(np.arange(0,N),H.history['val_accuracy'],label='val_acc')\n",
        "plt.title(\"Training Loss and Accuracy\")\n",
        "plt.xlabel('Epoch #')\n",
        "plt.ylabel(\"Loss/Accuracy\")\n",
        "plt.legend(loc=\"lower left\")\n",
        "plt.savefig(\"plot.png\")"
      ]
    },
    {
      "cell_type": "code",
      "source": [],
      "metadata": {
        "id": "8zKH3hHt1613"
      },
      "execution_count": null,
      "outputs": []
    }
  ],
  "metadata": {
    "language_info": {
      "name": "python"
    },
    "orig_nbformat": 4,
    "colab": {
      "provenance": []
    },
    "kernelspec": {
      "name": "python3",
      "display_name": "Python 3"
    }
  },
  "nbformat": 4,
  "nbformat_minor": 0
}